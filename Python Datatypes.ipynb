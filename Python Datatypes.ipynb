{
 "cells": [
  {
   "cell_type": "markdown",
   "id": "4779897a",
   "metadata": {},
   "source": [
    "# Python Datatypes"
   ]
  },
  {
   "cell_type": "markdown",
   "id": "533acc8d",
   "metadata": {},
   "source": [
    "### There are 4 collection datatypes #####      \n",
    "        1. LIST\n",
    "        2. SET\n",
    "        3. TUPLE\n",
    "        4. DICTINOARY\n",
    "\n",
    "Lets Discuss one by one\n",
    "    "
   ]
  },
  {
   "cell_type": "markdown",
   "id": "a16516f2",
   "metadata": {},
   "source": [
    "## LIST #### \n",
    "\n",
    "    List are dinoted by []\n",
    "    List items are ordered, changeable, and allow duplicate values.\n",
    "    List items are indexed, the first item has index [0], the second item has index [1] etc."
   ]
  },
  {
   "cell_type": "code",
   "execution_count": 1,
   "id": "81ecfe1a",
   "metadata": {},
   "outputs": [],
   "source": [
    "mylist=[\"apple\",\"banana\",\"cherry\",\"apple\",\"cherry\"]"
   ]
  },
  {
   "cell_type": "code",
   "execution_count": 2,
   "id": "33b270f4",
   "metadata": {},
   "outputs": [
    {
     "name": "stdout",
     "output_type": "stream",
     "text": [
      "<class 'list'>\n"
     ]
    }
   ],
   "source": [
    "print(type(mylist))"
   ]
  },
  {
   "cell_type": "code",
   "execution_count": 3,
   "id": "20261347",
   "metadata": {},
   "outputs": [
    {
     "name": "stdout",
     "output_type": "stream",
     "text": [
      "['apple', 'banana', 'cherry', 'apple', 'cherry']\n"
     ]
    }
   ],
   "source": [
    "print(mylist)"
   ]
  },
  {
   "cell_type": "code",
   "execution_count": 4,
   "id": "38761d6f",
   "metadata": {},
   "outputs": [
    {
     "data": {
      "text/plain": [
       "'apple'"
      ]
     },
     "execution_count": 4,
     "metadata": {},
     "output_type": "execute_result"
    }
   ],
   "source": [
    "mylist[0]"
   ]
  },
  {
   "cell_type": "code",
   "execution_count": 5,
   "id": "9ee7f3a1",
   "metadata": {},
   "outputs": [
    {
     "data": {
      "text/plain": [
       "'banana'"
      ]
     },
     "execution_count": 5,
     "metadata": {},
     "output_type": "execute_result"
    }
   ],
   "source": [
    "mylist[1]"
   ]
  },
  {
   "cell_type": "code",
   "execution_count": 6,
   "id": "b464da1c",
   "metadata": {},
   "outputs": [
    {
     "name": "stdout",
     "output_type": "stream",
     "text": [
      "5\n"
     ]
    }
   ],
   "source": [
    "print(len(mylist))"
   ]
  },
  {
   "cell_type": "markdown",
   "id": "575d2aee",
   "metadata": {},
   "source": [
    "#### Python supports negative indexing"
   ]
  },
  {
   "cell_type": "code",
   "execution_count": 7,
   "id": "546700bd",
   "metadata": {},
   "outputs": [
    {
     "data": {
      "text/plain": [
       "'cherry'"
      ]
     },
     "execution_count": 7,
     "metadata": {},
     "output_type": "execute_result"
    }
   ],
   "source": [
    "mylist[-1]"
   ]
  },
  {
   "cell_type": "code",
   "execution_count": 8,
   "id": "916d3008",
   "metadata": {},
   "outputs": [
    {
     "data": {
      "text/plain": [
       "'cherry'"
      ]
     },
     "execution_count": 8,
     "metadata": {},
     "output_type": "execute_result"
    }
   ],
   "source": [
    "mylist[-3]"
   ]
  },
  {
   "cell_type": "markdown",
   "id": "6434a33a",
   "metadata": {},
   "source": [
    "#### change item in list"
   ]
  },
  {
   "cell_type": "code",
   "execution_count": 9,
   "id": "f78f355a",
   "metadata": {},
   "outputs": [],
   "source": [
    "mylist[0] = \"guava\""
   ]
  },
  {
   "cell_type": "code",
   "execution_count": 10,
   "id": "93815845",
   "metadata": {},
   "outputs": [
    {
     "name": "stdout",
     "output_type": "stream",
     "text": [
      "guava\n"
     ]
    }
   ],
   "source": [
    "print(mylist[0])"
   ]
  },
  {
   "cell_type": "code",
   "execution_count": 11,
   "id": "975eae6e",
   "metadata": {},
   "outputs": [
    {
     "name": "stdout",
     "output_type": "stream",
     "text": [
      "['guava', 'banana', 'cherry', 'apple', 'cherry']\n"
     ]
    }
   ],
   "source": [
    "print(mylist)"
   ]
  },
  {
   "cell_type": "markdown",
   "id": "b26c9b94",
   "metadata": {},
   "source": [
    "## SET ####\n",
    "\n",
    "    Set are denoted by {}\n",
    "    Set items are unordered, unchangeable, and do not allow duplicate values.\n",
    "    \n",
    "    Sets are unordered, so you cannot be sure in which order the items will appear.\n",
    "    Once a set is created, you cannot change its items, but you can remove items and add new items.\n",
    "    Here unchangeable means we can not update each value."
   ]
  },
  {
   "cell_type": "code",
   "execution_count": 12,
   "id": "12c8a6bd",
   "metadata": {},
   "outputs": [],
   "source": [
    "myset = {\"apple\", \"banana\", \"cherry\"}\n"
   ]
  },
  {
   "cell_type": "code",
   "execution_count": 13,
   "id": "e99ced0b",
   "metadata": {},
   "outputs": [
    {
     "name": "stdout",
     "output_type": "stream",
     "text": [
      "<class 'set'>\n"
     ]
    }
   ],
   "source": [
    "print(type(myset))"
   ]
  },
  {
   "cell_type": "code",
   "execution_count": 14,
   "id": "0492623b",
   "metadata": {},
   "outputs": [
    {
     "name": "stdout",
     "output_type": "stream",
     "text": [
      "{'apple', 'banana', 'cherry'}\n"
     ]
    }
   ],
   "source": [
    "print(myset)"
   ]
  },
  {
   "cell_type": "markdown",
   "id": "af8813a5",
   "metadata": {},
   "source": [
    "#### Below code will give you error! As set object do not allow to feach data using index \n",
    "but we can fetch data using loop and \"in\" logic"
   ]
  },
  {
   "cell_type": "code",
   "execution_count": 15,
   "id": "86a347d9",
   "metadata": {},
   "outputs": [
    {
     "ename": "TypeError",
     "evalue": "'set' object is not subscriptable",
     "output_type": "error",
     "traceback": [
      "\u001b[1;31m---------------------------------------------------------------------------\u001b[0m",
      "\u001b[1;31mTypeError\u001b[0m                                 Traceback (most recent call last)",
      "Cell \u001b[1;32mIn[15], line 1\u001b[0m\n\u001b[1;32m----> 1\u001b[0m \u001b[38;5;28mprint\u001b[39m(\u001b[43mmyset\u001b[49m\u001b[43m[\u001b[49m\u001b[38;5;241;43m0\u001b[39;49m\u001b[43m]\u001b[49m)\n",
      "\u001b[1;31mTypeError\u001b[0m: 'set' object is not subscriptable"
     ]
    }
   ],
   "source": [
    "print(myset[0])"
   ]
  },
  {
   "cell_type": "code",
   "execution_count": 16,
   "id": "312c963c",
   "metadata": {},
   "outputs": [
    {
     "name": "stdout",
     "output_type": "stream",
     "text": [
      "apple\n",
      "banana\n",
      "cherry\n"
     ]
    }
   ],
   "source": [
    "for i in myset:\n",
    "    print(i)"
   ]
  },
  {
   "cell_type": "code",
   "execution_count": 17,
   "id": "839ded78",
   "metadata": {},
   "outputs": [
    {
     "name": "stdout",
     "output_type": "stream",
     "text": [
      "True\n"
     ]
    }
   ],
   "source": [
    "print(\"banana\" in myset)"
   ]
  },
  {
   "cell_type": "code",
   "execution_count": 18,
   "id": "17fa8068",
   "metadata": {},
   "outputs": [],
   "source": [
    "myset = {\"apple\", \"banana\", \"cherry\", \"apple\"} # Duplicate not allowed"
   ]
  },
  {
   "cell_type": "code",
   "execution_count": 19,
   "id": "937d23aa",
   "metadata": {},
   "outputs": [
    {
     "name": "stdout",
     "output_type": "stream",
     "text": [
      "{'apple', 'banana', 'cherry'}\n"
     ]
    }
   ],
   "source": [
    "print(myset)  "
   ]
  },
  {
   "cell_type": "code",
   "execution_count": 20,
   "id": "9ec221b0",
   "metadata": {},
   "outputs": [
    {
     "name": "stdout",
     "output_type": "stream",
     "text": [
      "3\n"
     ]
    }
   ],
   "source": [
    "print(len(myset))"
   ]
  },
  {
   "cell_type": "markdown",
   "id": "73002343",
   "metadata": {},
   "source": [
    "#### Add and update set are allowed"
   ]
  },
  {
   "cell_type": "code",
   "execution_count": 21,
   "id": "633373e7",
   "metadata": {},
   "outputs": [],
   "source": [
    "myset.add(\"orange\")"
   ]
  },
  {
   "cell_type": "code",
   "execution_count": 22,
   "id": "48d796f5",
   "metadata": {},
   "outputs": [
    {
     "name": "stdout",
     "output_type": "stream",
     "text": [
      "{'apple', 'banana', 'orange', 'cherry'}\n"
     ]
    }
   ],
   "source": [
    "print(myset)"
   ]
  },
  {
   "cell_type": "code",
   "execution_count": 23,
   "id": "18445e74",
   "metadata": {},
   "outputs": [],
   "source": [
    "thisset = {\"apple\", \"banana\", \"cherry\"}\n",
    "tropical = {\"pineapple\", \"mango\", \"papaya\"}"
   ]
  },
  {
   "cell_type": "code",
   "execution_count": 24,
   "id": "d0eafea3",
   "metadata": {},
   "outputs": [
    {
     "name": "stdout",
     "output_type": "stream",
     "text": [
      "{'pineapple', 'papaya', 'mango'}\n"
     ]
    }
   ],
   "source": [
    "print(tropical)"
   ]
  },
  {
   "cell_type": "code",
   "execution_count": 25,
   "id": "291947ea",
   "metadata": {},
   "outputs": [
    {
     "name": "stdout",
     "output_type": "stream",
     "text": [
      "{'apple', 'pineapple', 'banana', 'papaya', 'mango', 'cherry'}\n"
     ]
    }
   ],
   "source": [
    "thisset.update(tropical)\n",
    "\n",
    "print(thisset)"
   ]
  },
  {
   "cell_type": "markdown",
   "id": "16cd6c02",
   "metadata": {},
   "source": [
    "## \n",
    "\n",
    "\n",
    "\n",
    "\n",
    "\n",
    "\n",
    "\n"
   ]
  },
  {
   "cell_type": "markdown",
   "id": "549c204b",
   "metadata": {},
   "source": [
    "## TUPLE ####\n",
    "\n",
    "    Tuple is denoted by ()\n",
    "    Tuple items are ordered, unchangeable, and allow duplicate values.\n",
    "\n",
    "    Tuple items are indexed, the first item has index [0], the second item has index [1] etc."
   ]
  },
  {
   "cell_type": "code",
   "execution_count": 26,
   "id": "5298e0fa",
   "metadata": {},
   "outputs": [],
   "source": [
    "mytuple = (\"apple\", \"banana\", \"cherry\")"
   ]
  },
  {
   "cell_type": "code",
   "execution_count": 27,
   "id": "a40e17e6",
   "metadata": {},
   "outputs": [
    {
     "name": "stdout",
     "output_type": "stream",
     "text": [
      "<class 'tuple'>\n"
     ]
    }
   ],
   "source": [
    "print(type(mytuple))"
   ]
  },
  {
   "cell_type": "code",
   "execution_count": 28,
   "id": "9304fc9e",
   "metadata": {},
   "outputs": [
    {
     "name": "stdout",
     "output_type": "stream",
     "text": [
      "('apple', 'banana', 'cherry')\n"
     ]
    }
   ],
   "source": [
    "print(mytuple)"
   ]
  },
  {
   "cell_type": "code",
   "execution_count": 29,
   "id": "0da7d37e",
   "metadata": {},
   "outputs": [
    {
     "name": "stdout",
     "output_type": "stream",
     "text": [
      "apple\n"
     ]
    }
   ],
   "source": [
    "print(mytuple[0])"
   ]
  },
  {
   "cell_type": "markdown",
   "id": "639f501d",
   "metadata": {},
   "source": [
    "#### Below code will give you error as tuples are unchangeable!"
   ]
  },
  {
   "cell_type": "code",
   "execution_count": 30,
   "id": "fb6d752e",
   "metadata": {},
   "outputs": [
    {
     "ename": "TypeError",
     "evalue": "'tuple' object does not support item assignment",
     "output_type": "error",
     "traceback": [
      "\u001b[1;31m---------------------------------------------------------------------------\u001b[0m",
      "\u001b[1;31mTypeError\u001b[0m                                 Traceback (most recent call last)",
      "Cell \u001b[1;32mIn[30], line 1\u001b[0m\n\u001b[1;32m----> 1\u001b[0m \u001b[43mmytuple\u001b[49m\u001b[43m[\u001b[49m\u001b[38;5;241;43m0\u001b[39;49m\u001b[43m]\u001b[49m\u001b[38;5;241m=\u001b[39m\u001b[38;5;124m\"\u001b[39m\u001b[38;5;124mguava\u001b[39m\u001b[38;5;124m\"\u001b[39m\n",
      "\u001b[1;31mTypeError\u001b[0m: 'tuple' object does not support item assignment"
     ]
    }
   ],
   "source": [
    "mytuple[0]=\"guava\""
   ]
  },
  {
   "cell_type": "code",
   "execution_count": 31,
   "id": "bc85d1f1",
   "metadata": {},
   "outputs": [
    {
     "name": "stdout",
     "output_type": "stream",
     "text": [
      "('apple', 'banana', 'cherry', 'apple', 'cherry')\n"
     ]
    }
   ],
   "source": [
    "mytuple = (\"apple\", \"banana\", \"cherry\", \"apple\", \"cherry\")\n",
    "print(mytuple)"
   ]
  },
  {
   "cell_type": "code",
   "execution_count": 32,
   "id": "0af76696",
   "metadata": {},
   "outputs": [
    {
     "name": "stdout",
     "output_type": "stream",
     "text": [
      "5\n"
     ]
    }
   ],
   "source": [
    "print(len(mytuple))"
   ]
  },
  {
   "cell_type": "markdown",
   "id": "01938d0d",
   "metadata": {},
   "source": [
    "## \n",
    "\n",
    "\n",
    "\n",
    "\n",
    "\n",
    "\n",
    "\n",
    "\n",
    "\n",
    "\n",
    "\n"
   ]
  },
  {
   "cell_type": "markdown",
   "id": "91adfebc",
   "metadata": {},
   "source": [
    "## DICTIONARY ####\n",
    "    Dictionary is denoted by {} and key value\n",
    "    Dictionary items are ordered, changeable, and does not allow duplicates.\n",
    "\n",
    "    Dictionary items are presented in key:value pairs, and can be referred to by using the key name.\n",
    "    \n",
    "    As of Python version 3.7, dictionaries are ordered. In Python 3.6 and earlier, dictionaries are unordered."
   ]
  },
  {
   "cell_type": "code",
   "execution_count": 33,
   "id": "683e8a87",
   "metadata": {},
   "outputs": [],
   "source": [
    "mydict = {\n",
    "  \"brand\": \"Ford\",\n",
    "  \"model\": \"Mustang\",\n",
    "  \"year\": 1964\n",
    "}"
   ]
  },
  {
   "cell_type": "code",
   "execution_count": 34,
   "id": "3f3149f1",
   "metadata": {},
   "outputs": [
    {
     "name": "stdout",
     "output_type": "stream",
     "text": [
      "<class 'dict'>\n"
     ]
    }
   ],
   "source": [
    "print(type(mydict))"
   ]
  },
  {
   "cell_type": "code",
   "execution_count": 35,
   "id": "692c8225",
   "metadata": {},
   "outputs": [
    {
     "name": "stdout",
     "output_type": "stream",
     "text": [
      "{'brand': 'Ford', 'model': 'Mustang', 'year': 1964}\n"
     ]
    }
   ],
   "source": [
    "print(mydict)"
   ]
  },
  {
   "cell_type": "code",
   "execution_count": 36,
   "id": "4cc9110b",
   "metadata": {},
   "outputs": [
    {
     "data": {
      "text/plain": [
       "'Ford'"
      ]
     },
     "execution_count": 36,
     "metadata": {},
     "output_type": "execute_result"
    }
   ],
   "source": [
    "mydict[\"brand\"]"
   ]
  },
  {
   "cell_type": "code",
   "execution_count": 37,
   "id": "58dec437",
   "metadata": {},
   "outputs": [
    {
     "data": {
      "text/plain": [
       "'Mustang'"
      ]
     },
     "execution_count": 37,
     "metadata": {},
     "output_type": "execute_result"
    }
   ],
   "source": [
    "mydict[\"model\"]"
   ]
  },
  {
   "cell_type": "code",
   "execution_count": 38,
   "id": "b44e57f2",
   "metadata": {},
   "outputs": [
    {
     "data": {
      "text/plain": [
       "'fiesta'"
      ]
     },
     "execution_count": 38,
     "metadata": {},
     "output_type": "execute_result"
    }
   ],
   "source": [
    "mydict[\"model\"] = \"fiesta\"\n",
    "mydict[\"model\"]"
   ]
  },
  {
   "cell_type": "markdown",
   "id": "e8cecbd9",
   "metadata": {},
   "source": [
    "#### Below code will give you latest value for key \"year\",  As dictionary object do not allow duplicate values"
   ]
  },
  {
   "cell_type": "code",
   "execution_count": 39,
   "id": "c09b8875",
   "metadata": {},
   "outputs": [
    {
     "name": "stdout",
     "output_type": "stream",
     "text": [
      "{'brand': 'Ford', 'model': 'Mustang', 'year': 2023}\n"
     ]
    }
   ],
   "source": [
    "mydict = {\n",
    "  \"brand\": \"Ford\",\n",
    "  \"model\": \"Mustang\",\n",
    "  \"year\": 1964,\n",
    "  \"year\": 2020,\n",
    "  \"year\": 2023\n",
    "}\n",
    "print(mydict)"
   ]
  },
  {
   "cell_type": "markdown",
   "id": "81950b62",
   "metadata": {},
   "source": [
    "#### --------------------------------------------------"
   ]
  },
  {
   "cell_type": "markdown",
   "id": "666c9c8e",
   "metadata": {},
   "source": [
    "## Text Type : STRING ####\n",
    "    "
   ]
  },
  {
   "cell_type": "code",
   "execution_count": 40,
   "id": "7ca94e02",
   "metadata": {},
   "outputs": [],
   "source": [
    "myst = \"We are learning python datatypes\""
   ]
  },
  {
   "cell_type": "code",
   "execution_count": 41,
   "id": "a06b24ed",
   "metadata": {},
   "outputs": [
    {
     "name": "stdout",
     "output_type": "stream",
     "text": [
      "<class 'str'>\n"
     ]
    }
   ],
   "source": [
    "print(type(myst))"
   ]
  },
  {
   "cell_type": "code",
   "execution_count": 42,
   "id": "d1c3ad04",
   "metadata": {},
   "outputs": [
    {
     "name": "stdout",
     "output_type": "stream",
     "text": [
      "We are learning python datatypes\n"
     ]
    }
   ],
   "source": [
    "print(myst)"
   ]
  },
  {
   "cell_type": "code",
   "execution_count": 43,
   "id": "f944a320",
   "metadata": {},
   "outputs": [
    {
     "data": {
      "text/plain": [
       "'W'"
      ]
     },
     "execution_count": 43,
     "metadata": {},
     "output_type": "execute_result"
    }
   ],
   "source": [
    "myst[0]"
   ]
  },
  {
   "cell_type": "code",
   "execution_count": 46,
   "id": "cdf613ed",
   "metadata": {},
   "outputs": [
    {
     "data": {
      "text/plain": [
       "'s'"
      ]
     },
     "execution_count": 46,
     "metadata": {},
     "output_type": "execute_result"
    }
   ],
   "source": [
    "myst[-1]"
   ]
  },
  {
   "cell_type": "markdown",
   "id": "412ed9e1",
   "metadata": {},
   "source": [
    "## Numeric : INT, FLOAT, COMPLEX ####\n",
    "    "
   ]
  },
  {
   "cell_type": "markdown",
   "id": "90c6d90b",
   "metadata": {},
   "source": [
    "### INT"
   ]
  },
  {
   "cell_type": "code",
   "execution_count": 47,
   "id": "2ccccdea",
   "metadata": {},
   "outputs": [],
   "source": [
    "x = 102\n",
    "y = 35656222554887711\n",
    "z = -3255522"
   ]
  },
  {
   "cell_type": "code",
   "execution_count": 48,
   "id": "0c13ced4",
   "metadata": {},
   "outputs": [
    {
     "name": "stdout",
     "output_type": "stream",
     "text": [
      "<class 'int'>\n",
      "<class 'int'>\n",
      "<class 'int'>\n"
     ]
    }
   ],
   "source": [
    "print(type(x))\n",
    "print(type(y))\n",
    "print(type(z))"
   ]
  },
  {
   "cell_type": "code",
   "execution_count": 49,
   "id": "12446b45",
   "metadata": {},
   "outputs": [
    {
     "name": "stdout",
     "output_type": "stream",
     "text": [
      "102\n",
      "35656222554887711\n",
      "-3255522\n"
     ]
    }
   ],
   "source": [
    "print(x)\n",
    "print(y)\n",
    "print(z)"
   ]
  },
  {
   "cell_type": "markdown",
   "id": "fa7e78ad",
   "metadata": {},
   "source": [
    "#### Below code will give you error because integer object do not have index"
   ]
  },
  {
   "cell_type": "code",
   "execution_count": 50,
   "id": "c99eaa5e",
   "metadata": {},
   "outputs": [
    {
     "ename": "TypeError",
     "evalue": "'int' object is not subscriptable",
     "output_type": "error",
     "traceback": [
      "\u001b[1;31m---------------------------------------------------------------------------\u001b[0m",
      "\u001b[1;31mTypeError\u001b[0m                                 Traceback (most recent call last)",
      "Cell \u001b[1;32mIn[50], line 1\u001b[0m\n\u001b[1;32m----> 1\u001b[0m \u001b[43mx\u001b[49m\u001b[43m[\u001b[49m\u001b[38;5;241;43m1\u001b[39;49m\u001b[43m]\u001b[49m\n",
      "\u001b[1;31mTypeError\u001b[0m: 'int' object is not subscriptable"
     ]
    }
   ],
   "source": [
    "x[1]"
   ]
  },
  {
   "cell_type": "markdown",
   "id": "bbce2929",
   "metadata": {},
   "source": [
    "### FLOAT"
   ]
  },
  {
   "cell_type": "code",
   "execution_count": 51,
   "id": "d76fbf7d",
   "metadata": {},
   "outputs": [],
   "source": [
    "x = 1.10\n",
    "y = 1.0\n",
    "z = -35.59"
   ]
  },
  {
   "cell_type": "code",
   "execution_count": 52,
   "id": "127520f6",
   "metadata": {},
   "outputs": [
    {
     "name": "stdout",
     "output_type": "stream",
     "text": [
      "<class 'float'>\n",
      "<class 'float'>\n",
      "<class 'float'>\n"
     ]
    }
   ],
   "source": [
    "print(type(x))\n",
    "print(type(y))\n",
    "print(type(z))"
   ]
  },
  {
   "cell_type": "code",
   "execution_count": 53,
   "id": "906f8b0b",
   "metadata": {},
   "outputs": [
    {
     "name": "stdout",
     "output_type": "stream",
     "text": [
      "1.1\n",
      "1.0\n",
      "-35.59\n"
     ]
    }
   ],
   "source": [
    "print(x)\n",
    "print(y)\n",
    "print(z)"
   ]
  },
  {
   "cell_type": "code",
   "execution_count": 54,
   "id": "276fda63",
   "metadata": {},
   "outputs": [],
   "source": [
    "x = 35e3\n",
    "y = 12E4\n",
    "z = -87.7e100"
   ]
  },
  {
   "cell_type": "code",
   "execution_count": 55,
   "id": "9bb86827",
   "metadata": {},
   "outputs": [
    {
     "name": "stdout",
     "output_type": "stream",
     "text": [
      "<class 'float'>\n",
      "<class 'float'>\n",
      "<class 'float'>\n"
     ]
    }
   ],
   "source": [
    "print(type(x))\n",
    "print(type(y))\n",
    "print(type(z))"
   ]
  },
  {
   "cell_type": "code",
   "execution_count": 56,
   "id": "e75239af",
   "metadata": {},
   "outputs": [
    {
     "name": "stdout",
     "output_type": "stream",
     "text": [
      "35000.0\n",
      "120000.0\n",
      "-8.77e+101\n"
     ]
    }
   ],
   "source": [
    "print(x)\n",
    "print(y)\n",
    "print(z)"
   ]
  },
  {
   "cell_type": "markdown",
   "id": "95dcbe33",
   "metadata": {},
   "source": [
    "### COMPLEX"
   ]
  },
  {
   "cell_type": "code",
   "execution_count": 57,
   "id": "fe31ab0e",
   "metadata": {},
   "outputs": [],
   "source": [
    "x = 1j\n",
    "y = 1j + 5\n",
    "z = 2j - 10"
   ]
  },
  {
   "cell_type": "code",
   "execution_count": 58,
   "id": "adf7a79d",
   "metadata": {},
   "outputs": [
    {
     "name": "stdout",
     "output_type": "stream",
     "text": [
      "<class 'complex'>\n",
      "<class 'complex'>\n",
      "<class 'complex'>\n"
     ]
    }
   ],
   "source": [
    "print(type(x))\n",
    "print(type(y))\n",
    "print(type(z))"
   ]
  },
  {
   "cell_type": "code",
   "execution_count": 59,
   "id": "76b02b28",
   "metadata": {},
   "outputs": [
    {
     "name": "stdout",
     "output_type": "stream",
     "text": [
      "1j\n",
      "(5+1j)\n",
      "(-10+2j)\n"
     ]
    }
   ],
   "source": [
    "print(x)\n",
    "print(y)\n",
    "print(z)"
   ]
  },
  {
   "cell_type": "markdown",
   "id": "53f36008",
   "metadata": {},
   "source": [
    "### BOOLEAN : BOOL"
   ]
  },
  {
   "cell_type": "code",
   "execution_count": 64,
   "id": "e827bb82",
   "metadata": {},
   "outputs": [],
   "source": [
    "x = True\n",
    "y = False"
   ]
  },
  {
   "cell_type": "code",
   "execution_count": 65,
   "id": "ba67882e",
   "metadata": {},
   "outputs": [
    {
     "name": "stdout",
     "output_type": "stream",
     "text": [
      "<class 'bool'>\n",
      "<class 'bool'>\n"
     ]
    }
   ],
   "source": [
    "print(type(x))\n",
    "print(type(y))"
   ]
  },
  {
   "cell_type": "code",
   "execution_count": 66,
   "id": "3c5cb932",
   "metadata": {},
   "outputs": [
    {
     "name": "stdout",
     "output_type": "stream",
     "text": [
      "True\n",
      "False\n"
     ]
    }
   ],
   "source": [
    "print(x)\n",
    "print(y)"
   ]
  },
  {
   "cell_type": "markdown",
   "id": "5e9111f0",
   "metadata": {},
   "source": [
    "## Congratulations!!"
   ]
  },
  {
   "cell_type": "markdown",
   "id": "7220faa1",
   "metadata": {},
   "source": [
    "#### You have completed python datatypes. Keep learning and follow @chandradeepanand for more such content."
   ]
  }
 ],
 "metadata": {
  "kernelspec": {
   "display_name": "Python 3 (ipykernel)",
   "language": "python",
   "name": "python3"
  },
  "language_info": {
   "codemirror_mode": {
    "name": "ipython",
    "version": 3
   },
   "file_extension": ".py",
   "mimetype": "text/x-python",
   "name": "python",
   "nbconvert_exporter": "python",
   "pygments_lexer": "ipython3",
   "version": "3.10.2"
  }
 },
 "nbformat": 4,
 "nbformat_minor": 5
}
